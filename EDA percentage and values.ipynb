{
 "cells": [
  {
   "cell_type": "code",
   "execution_count": 1,
   "metadata": {},
   "outputs": [],
   "source": [
    "import pandas as pd\n",
    "import numpy as np\n",
    "import math\n",
    "import seaborn as sns\n",
    "import matplotlib.pyplot as plt\n",
    "%matplotlib inline\n",
    "\n",
    "import warnings\n",
    "warnings.filterwarnings('ignore')\n",
    "\n",
    "df = pd.read_csv(r\"C:\\Users\\Gouse MG\\Desktop\\Machine Learning\\Medical care banglore\\newweek.csv\")\n",
    "df.head(10)\n",
    "df.drop(['Total_Patients'],axis=1,inplace=True)"
   ]
  },
  {
   "cell_type": "code",
   "execution_count": 2,
   "metadata": {},
   "outputs": [
    {
     "data": {
      "text/html": [
       "<div>\n",
       "<style scoped>\n",
       "    .dataframe tbody tr th:only-of-type {\n",
       "        vertical-align: middle;\n",
       "    }\n",
       "\n",
       "    .dataframe tbody tr th {\n",
       "        vertical-align: top;\n",
       "    }\n",
       "\n",
       "    .dataframe thead th {\n",
       "        text-align: right;\n",
       "    }\n",
       "</style>\n",
       "<table border=\"1\" class=\"dataframe\">\n",
       "  <thead>\n",
       "    <tr style=\"text-align: right;\">\n",
       "      <th></th>\n",
       "      <th>OPI_BIN</th>\n",
       "      <th>Nos_PT_Called</th>\n",
       "      <th>Nos_PT_Texted</th>\n",
       "      <th>Nos_PT_Emailed</th>\n",
       "      <th>Nos_PT_Anymedia</th>\n",
       "    </tr>\n",
       "  </thead>\n",
       "  <tbody>\n",
       "    <tr>\n",
       "      <th>0</th>\n",
       "      <td>High_OPI</td>\n",
       "      <td>8</td>\n",
       "      <td>11</td>\n",
       "      <td>0</td>\n",
       "      <td>108</td>\n",
       "    </tr>\n",
       "    <tr>\n",
       "      <th>1</th>\n",
       "      <td>Medium_OPI</td>\n",
       "      <td>2</td>\n",
       "      <td>5</td>\n",
       "      <td>1</td>\n",
       "      <td>89</td>\n",
       "    </tr>\n",
       "    <tr>\n",
       "      <th>2</th>\n",
       "      <td>Low_OPI</td>\n",
       "      <td>4</td>\n",
       "      <td>7</td>\n",
       "      <td>0</td>\n",
       "      <td>259</td>\n",
       "    </tr>\n",
       "  </tbody>\n",
       "</table>\n",
       "</div>"
      ],
      "text/plain": [
       "      OPI_BIN  Nos_PT_Called  Nos_PT_Texted  Nos_PT_Emailed  Nos_PT_Anymedia\n",
       "0    High_OPI              8             11               0              108\n",
       "1  Medium_OPI              2              5               1               89\n",
       "2     Low_OPI              4              7               0              259"
      ]
     },
     "execution_count": 2,
     "metadata": {},
     "output_type": "execute_result"
    }
   ],
   "source": [
    "df"
   ]
  },
  {
   "cell_type": "code",
   "execution_count": 3,
   "metadata": {},
   "outputs": [
    {
     "data": {
      "text/plain": [
       "<AxesSubplot:title={'center':'Stacked Bar Graph by dataframe'}, xlabel='OPI_BIN'>"
      ]
     },
     "execution_count": 3,
     "metadata": {},
     "output_type": "execute_result"
    },
    {
     "data": {
      "image/png": "[encoded data removed]",
      "text/plain": [
       "<Figure size 432x288 with 1 Axes>"
      ]
     },
     "metadata": {
      "needs_background": "light"
     },
     "output_type": "display_data"
    }
   ],
   "source": [
    "df.plot(x='OPI_BIN', kind='bar', stacked=True,\n",
    "        title='Stacked Bar Graph by dataframe')"
   ]
  },
  {
   "cell_type": "raw",
   "metadata": {},
   "source": [
    "df = df.set_index('OPI_BIN')\n",
    "result_pct = df.div(df.sum(axis=1), axis=0)\n",
    "\n",
    "print(result_pct.reset_index())"
   ]
  },
  {
   "cell_type": "raw",
   "metadata": {},
   "source": [
    "# ax = result_pct.plot(kind='bar',stacked=True,figsize=(20,5),width = 0.2,edgecolor=None)\n",
    "plt.legend(labels=df.columns,fontsize= 14)\n",
    "plt.title(\"Patient Distribution accross OPI Level for TEST POOL(GLOBAL)\",fontsize= 16,loc='center',pad=35)\n",
    "plt.xlabel(\"OPI_BIN\",fontsize=14,loc='center')\n",
    "plt.ylabel(\"No.of Patients\",fontsize=14,loc='center')\n",
    "plt.locator_params(axis=\"y\", nbins=10)\n",
    "\n",
    "plt.xticks(fontsize=14)\n",
    "\n",
    "\n",
    "for spine in plt.gca().spines.values():\n",
    "    spine.set_visible(False)\n",
    "plt.yticks()\n",
    "\n",
    "# Add this loop to add the annotations\n",
    "for p in ax.patches:\n",
    "    width = p.get_width()\n",
    "    height = p.get_height()\n",
    "    x, y = p.get_xy() \n",
    "    ax.annotate(f'{height:5.0%}', (x + width/2, y + height*0.02), ha='center')\n",
    "    \n",
    "    \n",
    "# rename xtick labels; remove time\n",
    "ticks, labels = plt.xticks(rotation=90)\n",
    "labels = [label.get_text()[:10] for label in labels]\n",
    "plt.xticks(ticks=ticks, labels=labels)\n",
    "    "
   ]
  },
  {
   "cell_type": "code",
   "execution_count": 13,
   "metadata": {},
   "outputs": [],
   "source": [
    "x = df['OPI_BIN']\n",
    "y1 = np.array(df['Nos_PT_Called'])\n",
    "y2 = np.array(df['Nos_PT_Texted'])\n",
    "y3 = df['Nos_PT_Emailed']\n",
    "y4 = np.array(df['Nos_PT_Anymedia'])"
   ]
  },
  {
   "cell_type": "code",
   "execution_count": 14,
   "metadata": {},
   "outputs": [],
   "source": [
    "# memo of sample number\n",
    "snum = y1+y2+y3+y4\n",
    "\n",
    "# normalization\n",
    "called_per = y1/snum*100\n",
    "texted_per = y2/snum*100\n",
    "email_per  = y3/snum*100\n",
    "media_per  = y4/snum*100"
   ]
  },
  {
   "cell_type": "code",
   "execution_count": 17,
   "metadata": {},
   "outputs": [
    {
     "data": {
      "text/plain": [
       "0    0\n",
       "1    1\n",
       "2    0\n",
       "Name: Nos_PT_Emailed, dtype: int64"
      ]
     },
     "execution_count": 17,
     "metadata": {},
     "output_type": "execute_result"
    }
   ],
   "source": [
    "df['Nos_PT_Emailed']"
   ]
  },
  {
   "cell_type": "code",
   "execution_count": 18,
   "metadata": {},
   "outputs": [],
   "source": [
    "from matplotlib.patches import Rectangle"
   ]
  },
  {
   "cell_type": "code",
   "execution_count": 46,
   "metadata": {},
   "outputs": [
    {
     "data": {
      "image/png": "[encoded data removed]",
      "text/plain": [
       "<Figure size 1080x576 with 1 Axes>"
      ]
     },
     "metadata": {
      "needs_background": "light"
     },
     "output_type": "display_data"
    }
   ],
   "source": [
    "plt.figure(figsize=(15,8))\n",
    "\n",
    "plt.bar(x, y1, label='Nos_PT_Called',width=0.9,color='#FFD700',align = \"center\",edgecolor='black')\n",
    "plt.bar(x, y2,bottom=y1,label='Nos_PT_Texted',width=0.9,color='#EEE8AA',align = \"center\",edgecolor='black')\n",
    "plt.bar(x, y3,bottom=y1+y2,label='Nos_PT_Emailed',width=0.9,color='#8B4513',align = \"center\")\n",
    "plt.bar(x, y4,bottom=y1+y2+y3,label='Nos_PT_Anymedia',width=0.9,color='#87CEEB',align = \"center\",edgecolor='black')\n",
    "\n",
    "#plt.gcf().subplots_adjust(bottom=1.35, top=2.35)\n",
    "\n",
    "plt.xticks(fontsize=14)\n",
    "plt.title(\"Patient Distribution accross OPI Level for TEST POOL(GLOBAL)\",fontsize= 16,loc='center',pad=35)\n",
    "plt.xlabel(\"OPI_BIN\",fontsize=14,loc='center')\n",
    "plt.ylabel(\"No.of Patients\",fontsize=14,loc='center')\n",
    "plt.locator_params(axis=\"y\", nbins=10)\n",
    "\n",
    "\n",
    "\n",
    "# add text annotation corresponding to the values/percentage of each bar.\n",
    "\n",
    "\n",
    "for xpos, ypos, yval in zip(x, y1/8, y1):\n",
    "    plt.text(xpos, ypos, yval, ha=\"right\", va=\"center\",fontsize=14,color = 'black')\n",
    "for xpos, ypos, yval in zip(x, called_per/6, called_per):\n",
    "    plt.text(xpos, ypos, \"(%%=%.1f)  \"%yval, ha=\"right\", va=\"center\",color='black',fontsize=14)\n",
    "    \n",
    "    \n",
    "for xpos, ypos, yval in zip(x, y1+y2/18, y2):\n",
    "    plt.text(xpos, ypos, yval, ha=\"left\", va=\"center\",fontsize=14,rotation_mode='anchor')\n",
    "for xpos, ypos, yval in zip(x, texted_per/2, texted_per):\n",
    "    plt.text(xpos, ypos, \"   (%%=%.1f)\"%yval, ha=\"left\", va=\"baseline\",fontsize=14,rotation=5)\n",
    "\n",
    "\n",
    "for xpos, ypos, yval in zip(x, y1+y2+y3/3, y3):\n",
    "    plt.text(xpos, ypos, yval, ha=\"left\", va=\"bottom\",fontsize=14)\n",
    "     \n",
    "    \n",
    "    \n",
    "for xpos,ypos, yval in zip(x, y1+y2+y3+y4/3.5, y4):\n",
    "    plt.text(xpos, ypos, yval, ha=\"center\", va=\"center\",fontsize=18)\n",
    "for xpos, ypos, yval in zip(x, media_per/2, media_per):\n",
    "    plt.text(xpos, ypos, \"      (%%=%.1f)\"%yval, ha=\"center\", va=\"center\",fontsize=14)\n",
    "\n",
    "    \n",
    "    \n",
    "# add text annotation corresponding to the \"total\" value of each bar\n",
    "for xpos, ypos, yval in zip(x, y1+y2+y3+y4, y1+y2+y3+y4):\n",
    "    plt.text(xpos, ypos, \"%d\"%yval, ha=\"left\", va=\"baseline\",fontsize=18)\n",
    "\n",
    "    \n",
    "\n",
    "    \n",
    "plt.ylim(0,350)\n",
    "\n",
    "plt.legend(title='Categories',title_fontsize=20,fontsize=12)\n",
    "plt.tight_layout( pad=5.08, h_pad=2.5, w_pad=None, rect=(1,1,1,2))\n",
    "plt.savefig('stacked_barplot_with_number.png', bbox_inches='tight', pad_inches=0.02)"
   ]
  },
  {
   "cell_type": "code",
   "execution_count": 9,
   "metadata": {},
   "outputs": [
    {
     "data": {
      "text/html": [
       "<div>\n",
       "<style scoped>\n",
       "    .dataframe tbody tr th:only-of-type {\n",
       "        vertical-align: middle;\n",
       "    }\n",
       "\n",
       "    .dataframe tbody tr th {\n",
       "        vertical-align: top;\n",
       "    }\n",
       "\n",
       "    .dataframe thead th {\n",
       "        text-align: right;\n",
       "    }\n",
       "</style>\n",
       "<table border=\"1\" class=\"dataframe\">\n",
       "  <thead>\n",
       "    <tr style=\"text-align: right;\">\n",
       "      <th></th>\n",
       "      <th>OPI_BIN</th>\n",
       "      <th>Nos_PT_Called</th>\n",
       "      <th>Nos_PT_Texted</th>\n",
       "      <th>Nos_PT_Emailed</th>\n",
       "      <th>Nos_PT_Anymedia</th>\n",
       "    </tr>\n",
       "  </thead>\n",
       "  <tbody>\n",
       "    <tr>\n",
       "      <th>0</th>\n",
       "      <td>High_OPI</td>\n",
       "      <td>8</td>\n",
       "      <td>11</td>\n",
       "      <td>0</td>\n",
       "      <td>108</td>\n",
       "    </tr>\n",
       "    <tr>\n",
       "      <th>1</th>\n",
       "      <td>Medium_OPI</td>\n",
       "      <td>2</td>\n",
       "      <td>5</td>\n",
       "      <td>1</td>\n",
       "      <td>89</td>\n",
       "    </tr>\n",
       "    <tr>\n",
       "      <th>2</th>\n",
       "      <td>Low_OPI</td>\n",
       "      <td>4</td>\n",
       "      <td>7</td>\n",
       "      <td>0</td>\n",
       "      <td>259</td>\n",
       "    </tr>\n",
       "  </tbody>\n",
       "</table>\n",
       "</div>"
      ],
      "text/plain": [
       "      OPI_BIN  Nos_PT_Called  Nos_PT_Texted  Nos_PT_Emailed  Nos_PT_Anymedia\n",
       "0    High_OPI              8             11               0              108\n",
       "1  Medium_OPI              2              5               1               89\n",
       "2     Low_OPI              4              7               0              259"
      ]
     },
     "execution_count": 9,
     "metadata": {},
     "output_type": "execute_result"
    }
   ],
   "source": [
    "df"
   ]
  },
  {
   "cell_type": "code",
   "execution_count": null,
   "metadata": {},
   "outputs": [],
   "source": []
  }
 ],
 "metadata": {
  "kernelspec": {
   "display_name": "Python 3",
   "language": "python",
   "name": "python3"
  },
  "language_info": {
   "codemirror_mode": {
    "name": "ipython",
    "version": 3
   },
   "file_extension": ".py",
   "mimetype": "text/x-python",
   "name": "python",
   "nbconvert_exporter": "python",
   "pygments_lexer": "ipython3",
   "version": "3.8.5"
  }
 },
 "nbformat": 4,
 "nbformat_minor": 4
}
