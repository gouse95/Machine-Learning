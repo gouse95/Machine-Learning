{
 "cells": [
  {
   "cell_type": "code",
   "execution_count": 14,
   "metadata": {},
   "outputs": [
    {
     "data": {
      "text/html": [
       "<div>\n",
       "<style scoped>\n",
       "    .dataframe tbody tr th:only-of-type {\n",
       "        vertical-align: middle;\n",
       "    }\n",
       "\n",
       "    .dataframe tbody tr th {\n",
       "        vertical-align: top;\n",
       "    }\n",
       "\n",
       "    .dataframe thead th {\n",
       "        text-align: right;\n",
       "    }\n",
       "</style>\n",
       "<table border=\"1\" class=\"dataframe\">\n",
       "  <thead>\n",
       "    <tr style=\"text-align: right;\">\n",
       "      <th></th>\n",
       "      <th>OPI_BIN</th>\n",
       "      <th>Total_Patients</th>\n",
       "      <th>Nos_PT_Called</th>\n",
       "      <th>Nos_PT_Texted</th>\n",
       "      <th>Nos_PT_Emailed</th>\n",
       "      <th>Nos_PT_Anymedia</th>\n",
       "    </tr>\n",
       "  </thead>\n",
       "  <tbody>\n",
       "    <tr>\n",
       "      <th>0</th>\n",
       "      <td>High_OPI</td>\n",
       "      <td>94</td>\n",
       "      <td>12</td>\n",
       "      <td>2</td>\n",
       "      <td>2</td>\n",
       "      <td>13</td>\n",
       "    </tr>\n",
       "    <tr>\n",
       "      <th>1</th>\n",
       "      <td>Medium_OPI</td>\n",
       "      <td>103</td>\n",
       "      <td>5</td>\n",
       "      <td>0</td>\n",
       "      <td>3</td>\n",
       "      <td>6</td>\n",
       "    </tr>\n",
       "    <tr>\n",
       "      <th>2</th>\n",
       "      <td>Low_OPI</td>\n",
       "      <td>271</td>\n",
       "      <td>14</td>\n",
       "      <td>2</td>\n",
       "      <td>1</td>\n",
       "      <td>16</td>\n",
       "    </tr>\n",
       "    <tr>\n",
       "      <th>3</th>\n",
       "      <td>NO_OPI</td>\n",
       "      <td>884</td>\n",
       "      <td>62</td>\n",
       "      <td>10</td>\n",
       "      <td>12</td>\n",
       "      <td>71</td>\n",
       "    </tr>\n",
       "  </tbody>\n",
       "</table>\n",
       "</div>"
      ],
      "text/plain": [
       "      OPI_BIN  Total_Patients  Nos_PT_Called  Nos_PT_Texted  Nos_PT_Emailed  \\\n",
       "0    High_OPI              94             12              2               2   \n",
       "1  Medium_OPI             103              5              0               3   \n",
       "2     Low_OPI             271             14              2               1   \n",
       "3      NO_OPI             884             62             10              12   \n",
       "\n",
       "   Nos_PT_Anymedia  \n",
       "0               13  \n",
       "1                6  \n",
       "2               16  \n",
       "3               71  "
      ]
     },
     "execution_count": 14,
     "metadata": {},
     "output_type": "execute_result"
    }
   ],
   "source": [
    "import pandas as pd\n",
    "import numpy as np\n",
    "import math\n",
    "import seaborn as sns\n",
    "import matplotlib.pyplot as plt\n",
    "%matplotlib inline\n",
    "\n",
    "import warnings\n",
    "warnings.filterwarnings('ignore')\n",
    "\n",
    "df = pd.read_csv(r\"C:\\Users\\Gouse MG\\Desktop\\Machine Learning\\PatientList.csv\")\n",
    "df.head(10)"
   ]
  },
  {
   "cell_type": "code",
   "execution_count": 2,
   "metadata": {},
   "outputs": [
    {
     "name": "stdout",
     "output_type": "stream",
     "text": [
      "<class 'pandas.core.frame.DataFrame'>\n",
      "RangeIndex: 4 entries, 0 to 3\n",
      "Data columns (total 6 columns):\n",
      " #   Column           Non-Null Count  Dtype \n",
      "---  ------           --------------  ----- \n",
      " 0   OPI_BIN          4 non-null      object\n",
      " 1   Total_Patients   4 non-null      int64 \n",
      " 2   Nos_PT_Called    4 non-null      int64 \n",
      " 3   Nos_PT_Texted    4 non-null      int64 \n",
      " 4   Nos_PT_Emailed   4 non-null      int64 \n",
      " 5   Nos_PT_Anymedia  4 non-null      int64 \n",
      "dtypes: int64(5), object(1)\n",
      "memory usage: 320.0+ bytes\n"
     ]
    }
   ],
   "source": [
    "df.info()"
   ]
  },
  {
   "cell_type": "code",
   "execution_count": 3,
   "metadata": {},
   "outputs": [
    {
     "data": {
      "text/plain": [
       "<AxesSubplot:xlabel='OPI_BIN'>"
      ]
     },
     "execution_count": 3,
     "metadata": {},
     "output_type": "execute_result"
    },
    {
     "data": {
      "image/png": "[encoded data removed]",
      "text/plain": [
       "<Figure size 432x288 with 1 Axes>"
      ]
     },
     "metadata": {
      "needs_background": "light"
     },
     "output_type": "display_data"
    }
   ],
   "source": [
    "df.plot.bar('OPI_BIN')"
   ]
  },
  {
   "cell_type": "code",
   "execution_count": 6,
   "metadata": {},
   "outputs": [
    {
     "data": {
      "text/html": [
       "<div>\n",
       "<style scoped>\n",
       "    .dataframe tbody tr th:only-of-type {\n",
       "        vertical-align: middle;\n",
       "    }\n",
       "\n",
       "    .dataframe tbody tr th {\n",
       "        vertical-align: top;\n",
       "    }\n",
       "\n",
       "    .dataframe thead th {\n",
       "        text-align: right;\n",
       "    }\n",
       "</style>\n",
       "<table border=\"1\" class=\"dataframe\">\n",
       "  <thead>\n",
       "    <tr style=\"text-align: right;\">\n",
       "      <th></th>\n",
       "      <th>OPI_BIN</th>\n",
       "      <th>Total_Patients</th>\n",
       "      <th>Nos_PT_Called</th>\n",
       "      <th>Nos_PT_Texted</th>\n",
       "      <th>Nos_PT_Emailed</th>\n",
       "      <th>Nos_PT_Anymedia</th>\n",
       "    </tr>\n",
       "  </thead>\n",
       "  <tbody>\n",
       "    <tr>\n",
       "      <th>0</th>\n",
       "      <td>High_OPI</td>\n",
       "      <td>94</td>\n",
       "      <td>12</td>\n",
       "      <td>2</td>\n",
       "      <td>2</td>\n",
       "      <td>13</td>\n",
       "    </tr>\n",
       "    <tr>\n",
       "      <th>1</th>\n",
       "      <td>Medium_OPI</td>\n",
       "      <td>103</td>\n",
       "      <td>5</td>\n",
       "      <td>0</td>\n",
       "      <td>3</td>\n",
       "      <td>6</td>\n",
       "    </tr>\n",
       "    <tr>\n",
       "      <th>2</th>\n",
       "      <td>Low_OPI</td>\n",
       "      <td>271</td>\n",
       "      <td>14</td>\n",
       "      <td>2</td>\n",
       "      <td>1</td>\n",
       "      <td>16</td>\n",
       "    </tr>\n",
       "    <tr>\n",
       "      <th>3</th>\n",
       "      <td>NO_OPI</td>\n",
       "      <td>884</td>\n",
       "      <td>62</td>\n",
       "      <td>10</td>\n",
       "      <td>12</td>\n",
       "      <td>71</td>\n",
       "    </tr>\n",
       "  </tbody>\n",
       "</table>\n",
       "</div>"
      ],
      "text/plain": [
       "      OPI_BIN  Total_Patients  Nos_PT_Called  Nos_PT_Texted  Nos_PT_Emailed  \\\n",
       "0    High_OPI              94             12              2               2   \n",
       "1  Medium_OPI             103              5              0               3   \n",
       "2     Low_OPI             271             14              2               1   \n",
       "3      NO_OPI             884             62             10              12   \n",
       "\n",
       "   Nos_PT_Anymedia  \n",
       "0               13  \n",
       "1                6  \n",
       "2               16  \n",
       "3               71  "
      ]
     },
     "execution_count": 6,
     "metadata": {},
     "output_type": "execute_result"
    }
   ],
   "source": [
    "df"
   ]
  },
  {
   "cell_type": "code",
   "execution_count": 38,
   "metadata": {},
   "outputs": [
    {
     "name": "stdout",
     "output_type": "stream",
     "text": [
      "      OPI_BIN  Total_Patients  Nos_PT_Called  Nos_PT_Texted  Nos_PT_Emailed  \\\n",
      "0    High_OPI        0.764228       0.097561       0.016260        0.016260   \n",
      "1  Medium_OPI        0.880342       0.042735       0.000000        0.025641   \n",
      "2     Low_OPI        0.891447       0.046053       0.006579        0.003289   \n",
      "3      NO_OPI        0.850818       0.059673       0.009625        0.011550   \n",
      "\n",
      "   Nos_PT_Anymedia  \n",
      "0         0.105691  \n",
      "1         0.051282  \n",
      "2         0.052632  \n",
      "3         0.068335  \n"
     ]
    }
   ],
   "source": [
    "df = df.set_index('OPI_BIN')\n",
    "result_pct = df.div(df.sum(axis=1), axis=0)\n",
    "\n",
    "print(result_pct.reset_index())"
   ]
  },
  {
   "cell_type": "code",
   "execution_count": 71,
   "metadata": {},
   "outputs": [
    {
     "data": {
      "image/png": "[encoded data removed]",
      "text/plain": [
       "<Figure size 1296x360 with 1 Axes>"
      ]
     },
     "metadata": {
      "needs_background": "light"
     },
     "output_type": "display_data"
    }
   ],
   "source": [
    "ax = result_pct.plot(kind='bar',figsize=(18,5),width = 0.8,color = colors_list,edgecolor=None)\n",
    "plt.legend(labels=df.columns,fontsize= 14)\n",
    "plt.title(\"Patient Distribution accross OPI Level for TEST POOL(GLOBAL)\",fontsize= 16,loc='center',pad=35)\n",
    "plt.xlabel(\"OPI_BIN\",fontsize=14,loc='center')\n",
    "plt.ylabel(\"No.of Patients\",fontsize=14,loc='center')\n",
    "plt.locator_params(axis=\"y\", nbins=10)\n",
    "\n",
    "plt.xticks(fontsize=14)\n",
    "\n",
    "\n",
    "for spine in plt.gca().spines.values():\n",
    "    spine.set_visible(False)\n",
    "plt.yticks()\n",
    "\n",
    "# Add this loop to add the annotations\n",
    "for p in ax.patches:\n",
    "    width = p.get_width()\n",
    "    height = p.get_height()\n",
    "    x, y = p.get_xy() \n",
    "    ax.annotate(f'{height:.0%}', (x + width/2, y + height*1.02), ha='center')"
   ]
  }
 ],
 "metadata": {
  "kernelspec": {
   "display_name": "Python 3",
   "language": "python",
   "name": "python3"
  },
  "language_info": {
   "codemirror_mode": {
    "name": "ipython",
    "version": 3
   },
   "file_extension": ".py",
   "mimetype": "text/x-python",
   "name": "python",
   "nbconvert_exporter": "python",
   "pygments_lexer": "ipython3",
   "version": "3.8.5"
  }
 },
 "nbformat": 4,
 "nbformat_minor": 4
}
